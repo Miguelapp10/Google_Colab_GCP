{
  "nbformat": 4,
  "nbformat_minor": 0,
  "metadata": {
    "colab": {
      "provenance": [],
      "include_colab_link": true
    },
    "kernelspec": {
      "name": "python3",
      "display_name": "Python 3"
    },
    "language_info": {
      "name": "python"
    }
  },
  "cells": [
    {
      "cell_type": "markdown",
      "metadata": {
        "id": "view-in-github",
        "colab_type": "text"
      },
      "source": [
        "<a href=\"https://colab.research.google.com/github/Miguelapp10/Google_Colab_GCP/blob/main/Mpazos_Urbano_GS.ipynb\" target=\"_parent\"><img src=\"https://colab.research.google.com/assets/colab-badge.svg\" alt=\"Open In Colab\"/></a>"
      ]
    },
    {
      "cell_type": "code",
      "execution_count": null,
      "metadata": {
        "id": "rCWOw8Mk5JlJ"
      },
      "outputs": [],
      "source": [
        "#!pip install google-colab google-cloud-bigquery\n",
        "#!pip install gspread-pandas\n",
        "#!pip install gspread"
      ]
    },
    {
      "cell_type": "code",
      "source": [
        "from google.colab import auth\n",
        "from google.colab import files\n",
        "from google.cloud import bigquery\n",
        "import pandas as pd\n",
        "\n",
        "\n",
        "auth.authenticate_user()\n",
        "\n",
        "import gspread as gs\n",
        "import gspread_dataframe as gd\n",
        "from google.auth import default\n",
        "creds, _ = default()\n",
        "\n",
        "gc = gs.authorize(creds)\n",
        "import os"
      ],
      "metadata": {
        "id": "eudunJKU5byB"
      },
      "execution_count": null,
      "outputs": []
    },
    {
      "cell_type": "code",
      "source": [
        "# Connect sheet\n",
        "sheet = gc.open_by_key('NOMBRE_SHEETS')\n",
        "diciembre = sheet.worksheet('diciembre')\n",
        "# Get all values from the worksheet\n",
        "diciembre = diciembre.get_all_values()\n",
        "# Convert the data to a Pandas DataFrame\n",
        "diciembre = pd.DataFrame(diciembre[1:], columns=diciembre[0])\n",
        "\n",
        "enero24 = sheet.worksheet('enero24')\n",
        "# Get all values from the worksheet\n",
        "enero24 = enero24.get_all_values()\n",
        "# Convert the data to a Pandas DataFrame\n",
        "enero24 = pd.DataFrame(enero24[1:], columns=enero24[0])\n",
        "\n",
        "febrero24 = sheet.worksheet('febrero24')\n",
        "# Get all values from the worksheet\n",
        "febrero24 = febrero24.get_all_values()\n",
        "# Convert the data to a Pandas DataFrame\n",
        "febrero24 = pd.DataFrame(febrero24[1:], columns=febrero24[0])\n",
        "\n",
        "marzo24 = sheet.worksheet('marzo24')\n",
        "# Get all values from the worksheet\n",
        "marzo24 = marzo24.get_all_values()\n",
        "# Convert the data to a Pandas DataFrame\n",
        "marzo24 = pd.DataFrame(marzo24[1:], columns=marzo24[0])\n",
        "\n",
        "# Realiza la unión de los DataFrames\n",
        "#enero, febrero, marzo,abril,mayo,junio,julio,agosto,setiembre,octubre,noviembre,\n",
        "resultado_union = pd.concat([diciembre,enero24,febrero24,marzo24], ignore_index=True)"
      ],
      "metadata": {
        "id": "AIrWD5t65mzh"
      },
      "execution_count": null,
      "outputs": []
    },
    {
      "cell_type": "code",
      "source": [
        "\n",
        "# Configuración de la autenticación para BigQuery\n",
        "project_id = 'NOMBRE_PROJECT_ID'  # Reemplaza con tu ID de proyecto en Google Cloud\n",
        "!gcloud config set project {project_id}\n",
        "# Configuración del dataset y la tabla en BigQuery\n",
        "dataset_id = 'NOMBRE_DATASET_ID'\n",
        "table_id = 'NOMBRE_TABLE_ID'\n",
        "\n",
        "# Cargar el DataFrame en BigQuery\n",
        "resultado_union.to_gbq(destination_table=f'{dataset_id}.{table_id}', project_id=project_id, if_exists='replace')\n",
        "# Cargar el DataFrame en BigQuery\n",
        "#resultado_union.to_gbq(destination_table=f'{project_id}.{dataset_id}.{table_id}', if_exists='replace')"
      ],
      "metadata": {
        "id": "SfNYxbQW6BW0",
        "colab": {
          "base_uri": "https://localhost:8080/"
        },
        "outputId": "4ee03b8d-bcf0-4964-8148-7743b5a2e67c"
      },
      "execution_count": null,
      "outputs": [
        {
          "output_type": "stream",
          "name": "stdout",
          "text": [
            "Updated property [core/project].\n"
          ]
        },
        {
          "output_type": "stream",
          "name": "stderr",
          "text": [
            "100%|██████████| 1/1 [00:00<00:00, 1589.35it/s]\n"
          ]
        }
      ]
    }
  ]
}
