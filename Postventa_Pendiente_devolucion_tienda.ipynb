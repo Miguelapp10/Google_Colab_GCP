{
  "nbformat": 4,
  "nbformat_minor": 0,
  "metadata": {
    "colab": {
      "provenance": [],
      "authorship_tag": "ABX9TyO1dxvczXbEd1sICap9bxbl",
      "include_colab_link": true
    },
    "kernelspec": {
      "name": "python3",
      "display_name": "Python 3"
    },
    "language_info": {
      "name": "python"
    }
  },
  "cells": [
    {
      "cell_type": "markdown",
      "metadata": {
        "id": "view-in-github",
        "colab_type": "text"
      },
      "source": [
        "<a href=\"https://colab.research.google.com/github/Miguelapp10/Google_Colab_GCP/blob/main/Postventa_Pendiente_devolucion_tienda.ipynb\" target=\"_parent\"><img src=\"https://colab.research.google.com/assets/colab-badge.svg\" alt=\"Open In Colab\"/></a>"
      ]
    },
    {
      "cell_type": "code",
      "execution_count": null,
      "metadata": {
        "colab": {
          "base_uri": "https://localhost:8080/"
        },
        "id": "HpuPr_QlrpBe",
        "outputId": "49e5d2df-e91b-4bd7-cda6-e2affa7b90d0"
      },
      "outputs": [
        {
          "output_type": "stream",
          "name": "stdout",
          "text": [
            "Collecting xlsxwriter\n",
            "  Downloading XlsxWriter-3.2.0-py3-none-any.whl (159 kB)\n",
            "\u001b[2K     \u001b[90m━━━━━━━━━━━━━━━━━━━━━━━━━━━━━━━━━━━━━━━━\u001b[0m \u001b[32m159.9/159.9 kB\u001b[0m \u001b[31m2.4 MB/s\u001b[0m eta \u001b[36m0:00:00\u001b[0m\n",
            "\u001b[?25hInstalling collected packages: xlsxwriter\n",
            "Successfully installed xlsxwriter-3.2.0\n",
            "Requirement already satisfied: Openpyxl in /usr/local/lib/python3.10/dist-packages (3.1.2)\n",
            "Requirement already satisfied: et-xmlfile in /usr/local/lib/python3.10/dist-packages (from Openpyxl) (1.1.0)\n"
          ]
        }
      ],
      "source": [
        "#!pip install google-colab google-cloud-bigquery\n",
        "!pip install xlsxwriter\n",
        "#!pip install pyautogui\n",
        "#!pip install smtplib\n",
        "!pip install Openpyxl"
      ]
    },
    {
      "cell_type": "code",
      "source": [
        "from google.colab import auth\n",
        "from google.colab import files\n",
        "\n",
        "auth.authenticate_user()\n",
        "\n",
        "import gspread as gs\n",
        "import gspread_dataframe as gd\n",
        "from google.auth import default\n",
        "creds, _ = default()\n",
        "\n",
        "gc = gs.authorize(creds)"
      ],
      "metadata": {
        "id": "vPO1eVX3sEu5"
      },
      "execution_count": null,
      "outputs": []
    },
    {
      "cell_type": "code",
      "source": [
        "from google.cloud import bigquery\n",
        "import pandas as pd\n",
        "import numpy as np\n",
        "from datetime import datetime, timedelta,timezone\n",
        "\n",
        "# Ingresa el ID de tu proyecto de Google Cloud\n",
        "project_id = 'bi-fcom-drmb-local-pe-sbx'\n",
        "\n",
        "# Configura la conexión a BigQuery\n",
        "client = bigquery.Client(project=project_id)\n",
        "\n",
        "# Ejemplo de consulta\n",
        "query = \"\"\"\n",
        "SELECT  *  FROM `bi-fcom-drmb-local-pe-sbx.Pidgeotto_Devolucion.Devolucion_Tienda_Backstore` where Fecha_Entregado_Tienda>='2024-01-01'\n",
        "\"\"\"\n",
        "# Ejecutar la consulta\n",
        "result = client.query(query)\n",
        "\n",
        "# Convertir los resultados en un DataFrame de Pandas\n",
        "Backstore = result.to_dataframe()"
      ],
      "metadata": {
        "id": "sKhXBRh4sG5f"
      },
      "execution_count": null,
      "outputs": []
    },
    {
      "cell_type": "code",
      "source": [
        "## BU_Negocio\n",
        "#Filter_Backstore= Backstore[Backstore['BU_Devolucion'] == \"TOTTUS\"]\n",
        "\n",
        "## BU_Negocio\n",
        "Filter_Backstore = Backstore[Backstore['ESTADO_ACTUAL'] == \"SOLICITUD DE SERVICIO\"]\n",
        "\n",
        "## BU_Negocio\n",
        "Filter_Backstore = Filter_Backstore[Filter_Backstore['Estado_Backstore'] != \"ANNULLED\"]\n",
        "## BU_Negocio\n",
        "#Filter_Backstore = Filter_Backstore[Filter_Backstore['Tienda'] != \"Falabella.com Lince\"]\n",
        "\n",
        "## BU_Negocio\n",
        "Filter_Backstore =Filter_Backstore[ (Filter_Backstore['ST'].apply(lambda x: pd.isna(x) or x == '' or x == '0'))]\n",
        "\n",
        " ##Assuming 'Fecha_Recepcionado_Tienda' is in datetime format\n",
        "Filter_Backstore['Año_mes'] = Filter_Backstore['Fecha_Entregado_Tienda_v2'].dt.strftime('%Y-%m')\n",
        "\n",
        "# Suponiendo que Filter_Backstore es tu DataFrame\n",
        "Filter_Backstore['Precio'] = pd.to_numeric(Filter_Backstore['Precio'])\n",
        "\n",
        "# Create a pivot table\n",
        "pivot_table_1 = pd.pivot_table(Filter_Backstore,\n",
        "                             values=['RLO'],\n",
        "                             index=['Status_Buffer'],\n",
        "                             columns=['Año_mes'],\n",
        "                             aggfunc={'RLO': 'count'},\n",
        "                             margins=True,\n",
        "                             margins_name='Total'\n",
        "                             ).rename(columns={'RLO': 'Cantidad'}\n",
        "                                      ).rename_axis(columns={'Status_Buffer': 'Estado_Buffer'})\n",
        "\n",
        "# Format the 'Monto' column with a currency symbol using applymap\n",
        "#pivot_table['Monto'] = pivot_table['Monto'].applymap('S/.{:,.2f}'.format)\n",
        "# Rellenar los valores NaN con ''\n",
        "pivot_table_1.fillna('', inplace=True)\n",
        "\n",
        "# Create HTML representation of the styled pivot table\n",
        "html_table_1 = pivot_table_1.to_html(classes='styled-table', escape=False)\n",
        "\n",
        "# Print the head of the pivot table\n",
        "print(pivot_table_1.head())"
      ],
      "metadata": {
        "colab": {
          "base_uri": "https://localhost:8080/"
        },
        "id": "X26q9qNrsMgT",
        "outputId": "dd85f878-6a46-4a5c-dbde-98697bcaa08a"
      },
      "execution_count": null,
      "outputs": [
        {
          "output_type": "stream",
          "name": "stdout",
          "text": [
            "              Cantidad                      \n",
            "Año_mes        2024-01 2024-02 2024-03 Total\n",
            "Status_Buffer                               \n",
            "No                24.0    43.0            67\n",
            "Si                              1319.0  1319\n",
            "Total             24.0    43.0  1319.0  1386\n"
          ]
        }
      ]
    },
    {
      "cell_type": "code",
      "source": [
        "# Function to categorize the difference\n",
        "def categorize_difference(days):\n",
        "    if days <= 7:\n",
        "        return \"1_Sem\"\n",
        "    elif days <= 14:\n",
        "        return \"2_Sem\"\n",
        "    elif days <= 21:\n",
        "        return \"3_Sem\"\n",
        "    elif days <= 28:\n",
        "        return \"4_Sem\"\n",
        "    else:\n",
        "        return \"4_Sem_+\"\n",
        "\n",
        "# Apply the function to create the new column\n",
        "Filter_Backstore['Rango_Fecha_Tienda_'] = Filter_Backstore['Dias_en_tiendas'].apply(categorize_difference)\n",
        "\n",
        "# Create a pivot table\n",
        "pivot_table_2 = pd.pivot_table(Filter_Backstore,\n",
        "                             values=['RLO'],\n",
        "                             index=['Tienda'],\n",
        "                             columns=['Rango_Fecha_Tienda_'],\n",
        "                             aggfunc={'RLO': 'count'},\n",
        "                              margins=False,\n",
        "                             margins_name='Total'\n",
        "                             ).rename(columns={'RLO': 'Cantidad'}\n",
        "                                      ).rename_axis(columns={'Tienda': 'Tienda'})\n",
        "# Format the 'Monto' column with a currency symbol using applymap\n",
        "#pivot_table['Monto'] = pivot_table['Monto'].applymap('S/.{:,.2f}'.format)\n",
        "\n",
        "# Calculate the 'Total' column by summing across all columns\n",
        "pivot_table_2['Total'] = pivot_table_2.sum(axis=1)\n",
        "\n",
        "# Sort the pivot table by the 'Total' column in descending order\n",
        "pivot_table_2_sorted = pivot_table_2.sort_values(by='Total', ascending=False)\n",
        "\n",
        "# Rellenar los valores NaN con ''\n",
        "pivot_table_2_sorted.fillna('', inplace=True)\n",
        "# Create HTML representation of the styled pivot table\n",
        "html_table_2 = pivot_table_2_sorted.to_html(classes='styled-table', escape=False)\n",
        "\n",
        "# Print the head of the pivot table\n",
        "print(pivot_table_2_sorted.head())"
      ],
      "metadata": {
        "colab": {
          "base_uri": "https://localhost:8080/"
        },
        "id": "dQ5W4Ws9s1rI",
        "outputId": "1705ba2a-1ad6-4ee8-86a1-870fa2d7ee19"
      },
      "execution_count": null,
      "outputs": [
        {
          "output_type": "stream",
          "name": "stdout",
          "text": [
            "                              Cantidad                            Total\n",
            "Rango_Fecha_Tienda_              1_Sem 2_Sem 3_Sem 4_Sem 4_Sem_+       \n",
            "Tienda                                                                 \n",
            "FALABELLA MALL DEL SUR           141.0  87.0                 1.0  229.0\n",
            "FALABELLA MALL PLAZA TRUJILLO    103.0  19.0         2.0     2.0  126.0\n",
            "FALABELLA AREQUIPA CAYMA          49.0   3.0   6.0                 58.0\n",
            "FALABELLA SAN ISIDRO              56.0   2.0                       58.0\n",
            "FALABELLA SANTA ANITA             39.0  10.0                 1.0   50.0\n"
          ]
        }
      ]
    },
    {
      "cell_type": "code",
      "source": [
        "# Create a pivot table\n",
        "\n",
        "pivot_table_5 = Filter_Backstore.groupby(['Rango_Fecha_Tienda_']).agg(\n",
        "    Monto=pd.NamedAgg(column=\"Precio\", aggfunc=\"sum\"))\n",
        "# Format the 'Monto' column with a currency symbol using applymap\n",
        "#pivot_table['Monto'] = pivot_table['Monto'].applymap('S/.{:,.2f}'.format)\n",
        "\n",
        "# Calculate the 'Total' column by summing across all columns\n",
        "#pivot_table_5['Total'] = pivot_table_5.sum(axis=1)\n",
        "\n",
        "# Sort the pivot table by the 'Total' column in descending order\n",
        "#pivot_table_5_sorted = pivot_table_5.sort_values(by='Total', ascending=False)\n",
        "\n",
        "# Rellenar los valores NaN con ''\n",
        "pivot_table_5.fillna('', inplace=True)\n",
        "# Create HTML representation of the styled pivot table\n",
        "html_table_5 = pivot_table_5.to_html(classes='styled-table', escape=False)\n",
        "\n",
        "# Print the head of the pivot table\n",
        "print(pivot_table_5.head())"
      ],
      "metadata": {
        "colab": {
          "base_uri": "https://localhost:8080/"
        },
        "id": "zGXCxo58tXHC",
        "outputId": "29a6e002-87ef-40a4-bf05-22d484376e8c"
      },
      "execution_count": null,
      "outputs": [
        {
          "output_type": "stream",
          "name": "stdout",
          "text": [
            "                         Monto\n",
            "Rango_Fecha_Tienda_           \n",
            "1_Sem                180910.49\n",
            "2_Sem                 60129.11\n",
            "3_Sem                  4634.20\n",
            "4_Sem                  1249.70\n",
            "4_Sem_+                6939.00\n"
          ]
        }
      ]
    },
    {
      "cell_type": "code",
      "source": [
        "# Connect sheet\n",
        "sheet = gc.open_by_key('1MVHS3J_2v0haVS_MGGSOhfw2_0y07B9cOuZjNNKFxmI')\n",
        "worksheet = sheet.worksheet('Devolución_tienda')\n",
        "# Get all values from the worksheet\n",
        "data = worksheet.get_all_values()\n",
        "# Convert the data to a Pandas DataFrame\n",
        "offline = pd.DataFrame(data[1:], columns=data[0])\n",
        "\n",
        "offline = offline[['RASTREO','RASTREO2','DESCRICION POR ENTREGAR','Tienda','Orden Seller','SKU','valor_sku','Fecha solicitud',\n",
        "                   'Guía', 'OPL','Estado de Recoleccion','Día visita tienda','Fecha de Recoleccion','Estado de Entrega','Fecha de entrega',\n",
        "                   'Comentario Postventa','NEGOCIO']]\n",
        "\n",
        "# Cambiar el nombre de la columna\n",
        "offline = offline.rename(columns={'DESCRICION POR ENTREGAR':'DESCRIPCION','Tienda': 'TIENDA','Orden Seller':'ORDEN','valor_sku':'PRECIO','Fecha solicitud':'FECHA_SOLICITUD',\n",
        "                                  'Guía':'GUIA','Estado de Recoleccion':'ESTADO_RECOLECCION','Día visita tienda':'DIA_RECOLECCION','Fecha de Recoleccion':'FECHA_RECOLECCION',\n",
        "                                  'Estado de Entrega':'ESTADO_ENTREGA','Fecha de entrega':'FECHA_ENTREGA','Comentario Postventa':'COMENTARIO_POSTVENTA'})\n",
        "# Filtrar el DataFrame por la columna 'ESTADO_RECOLECCION'\n",
        "offline = offline[(offline['ESTADO_RECOLECCION'].str.contains('SOLICITUD DE SERVICIO', case=False))]\n",
        "offline =offline[ (offline['COMENTARIO_POSTVENTA'].apply(lambda x: pd.isna(x) or x == '' or x == '0'))]\n",
        "\n",
        "# Convert it to datetime first\n",
        "offline['FECHA_SOLICITUD'] = pd.to_datetime(offline['FECHA_SOLICITUD'])\n",
        "# Convert 'FECHA_SOLICITUD' column to datetime format\n",
        "offline['FECHA_SOLICITUD'] = pd.to_datetime(offline['FECHA_SOLICITUD'], format='%d/%m/%Y')\n",
        "\n",
        "## Fecha 2024-01-01\n",
        "filter_offline = offline[offline['FECHA_SOLICITUD'] >= pd.Timestamp(2024, 1, 1)]\n",
        "\n",
        "## BU_Negocio\n",
        "##filter_offline = offline_24[offline_24['NEGOCIO'] == \"Tottus\"]\n",
        "\n",
        "# Calculate the difference between the current date and Fecha_Entregado_Tienda_v2\n",
        "filter_offline['DIA_TIENDA'] = (datetime.now() - filter_offline['FECHA_SOLICITUD']).dt.days\n",
        "\n",
        "# Conditionally assign values based on the calculated difference\n",
        "filter_offline['Status_Buffer'] = 'Si'\n",
        "filter_offline.loc[filter_offline['DIA_TIENDA'] > 15, 'Status_Buffer'] = 'No'\n",
        "\n",
        " ##Assuming 'Fecha_Recepcionado_Tienda' is in datetime format\n",
        "filter_offline['Año_mes'] = filter_offline['FECHA_SOLICITUD'].dt.strftime('%Y-%m')\n",
        "\n",
        "\n",
        "# Apply the function to create the new column\n",
        "filter_offline['Rango_Fecha_Tienda'] = filter_offline['DIA_TIENDA'].apply(categorize_difference)\n",
        "\n",
        "# Convertir las columnas a mayúsculas\n",
        "filter_offline['TIENDA'] = filter_offline['TIENDA'].str.strip().str.upper()\n",
        "\n",
        "# Suponiendo que Filter_Backstore es tu DataFrame\n",
        "filter_offline['PRECIO'] = pd.to_numeric(filter_offline['PRECIO'])\n",
        "\n",
        "\"\"\"print(filter_offline)\n",
        "info = info[['TIENDA','RLO','GUIA']]\"\"\""
      ],
      "metadata": {
        "colab": {
          "base_uri": "https://localhost:8080/",
          "height": 700
        },
        "id": "sevXBJmttaXL",
        "outputId": "2b9a5140-74a0-42e7-fb0d-aaef7d3cff40"
      },
      "execution_count": null,
      "outputs": [
        {
          "output_type": "stream",
          "name": "stderr",
          "text": [
            "<ipython-input-7-b85c4fac8c8c>:33: SettingWithCopyWarning: \n",
            "A value is trying to be set on a copy of a slice from a DataFrame.\n",
            "Try using .loc[row_indexer,col_indexer] = value instead\n",
            "\n",
            "See the caveats in the documentation: https://pandas.pydata.org/pandas-docs/stable/user_guide/indexing.html#returning-a-view-versus-a-copy\n",
            "  filter_offline['DIA_TIENDA'] = (datetime.now() - filter_offline['FECHA_SOLICITUD']).dt.days\n",
            "<ipython-input-7-b85c4fac8c8c>:36: SettingWithCopyWarning: \n",
            "A value is trying to be set on a copy of a slice from a DataFrame.\n",
            "Try using .loc[row_indexer,col_indexer] = value instead\n",
            "\n",
            "See the caveats in the documentation: https://pandas.pydata.org/pandas-docs/stable/user_guide/indexing.html#returning-a-view-versus-a-copy\n",
            "  filter_offline['Status_Buffer'] = 'Si'\n",
            "<ipython-input-7-b85c4fac8c8c>:40: SettingWithCopyWarning: \n",
            "A value is trying to be set on a copy of a slice from a DataFrame.\n",
            "Try using .loc[row_indexer,col_indexer] = value instead\n",
            "\n",
            "See the caveats in the documentation: https://pandas.pydata.org/pandas-docs/stable/user_guide/indexing.html#returning-a-view-versus-a-copy\n",
            "  filter_offline['Año_mes'] = filter_offline['FECHA_SOLICITUD'].dt.strftime('%Y-%m')\n",
            "<ipython-input-7-b85c4fac8c8c>:44: SettingWithCopyWarning: \n",
            "A value is trying to be set on a copy of a slice from a DataFrame.\n",
            "Try using .loc[row_indexer,col_indexer] = value instead\n",
            "\n",
            "See the caveats in the documentation: https://pandas.pydata.org/pandas-docs/stable/user_guide/indexing.html#returning-a-view-versus-a-copy\n",
            "  filter_offline['Rango_Fecha_Tienda'] = filter_offline['DIA_TIENDA'].apply(categorize_difference)\n",
            "<ipython-input-7-b85c4fac8c8c>:47: SettingWithCopyWarning: \n",
            "A value is trying to be set on a copy of a slice from a DataFrame.\n",
            "Try using .loc[row_indexer,col_indexer] = value instead\n",
            "\n",
            "See the caveats in the documentation: https://pandas.pydata.org/pandas-docs/stable/user_guide/indexing.html#returning-a-view-versus-a-copy\n",
            "  filter_offline['TIENDA'] = filter_offline['TIENDA'].str.strip().str.upper()\n",
            "<ipython-input-7-b85c4fac8c8c>:50: SettingWithCopyWarning: \n",
            "A value is trying to be set on a copy of a slice from a DataFrame.\n",
            "Try using .loc[row_indexer,col_indexer] = value instead\n",
            "\n",
            "See the caveats in the documentation: https://pandas.pydata.org/pandas-docs/stable/user_guide/indexing.html#returning-a-view-versus-a-copy\n",
            "  filter_offline['PRECIO'] = pd.to_numeric(filter_offline['PRECIO'])\n"
          ]
        },
        {
          "output_type": "execute_result",
          "data": {
            "text/plain": [
              "\"print(filter_offline)\\ninfo = info[['TIENDA','RLO','GUIA']]\""
            ],
            "application/vnd.google.colaboratory.intrinsic+json": {
              "type": "string"
            }
          },
          "metadata": {},
          "execution_count": 7
        }
      ]
    },
    {
      "cell_type": "code",
      "source": [
        "# Create a pivot table\n",
        "pivot_table_3 = pd.pivot_table(filter_offline,\n",
        "                             values=['RASTREO'],\n",
        "                             index=['Status_Buffer'],\n",
        "                             columns=['Año_mes'],\n",
        "                             aggfunc={'RASTREO': 'count'},\n",
        "                             margins=True,\n",
        "                             margins_name='Total'\n",
        "                             ).rename(columns={'RASTREO': 'Cantidad'}\n",
        "                                      ).rename_axis(columns={'Status_Buffer': 'Estado_Buffer'})\n",
        "\n",
        "# Format the 'Monto' column with a currency symbol using applymap\n",
        "#pivot_table['Monto'] = pivot_table['Monto'].applymap('S/.{:,.2f}'.format)\n",
        "# Rellenar los valores NaN con ''\n",
        "pivot_table_3.fillna('', inplace=True)\n",
        "\n",
        "# Create HTML representation of the styled pivot table\n",
        "html_table_3 = pivot_table_3.to_html(classes='styled-table', escape=False)\n",
        "\n",
        "# Print the head of the pivot table\n",
        "print(pivot_table_3.head())"
      ],
      "metadata": {
        "colab": {
          "base_uri": "https://localhost:8080/"
        },
        "id": "mTuXcg8ltuY9",
        "outputId": "416fe113-9ae9-4eca-dd7a-b8c8305df5c5"
      },
      "execution_count": null,
      "outputs": [
        {
          "output_type": "stream",
          "name": "stdout",
          "text": [
            "              Cantidad                      \n",
            "Año_mes        2024-01 2024-02 2024-03 Total\n",
            "Status_Buffer                               \n",
            "No                 7.0    23.0            30\n",
            "Si                               184.0   184\n",
            "Total              7.0    23.0   184.0   214\n"
          ]
        }
      ]
    },
    {
      "cell_type": "code",
      "source": [
        "# Create a pivot table\n",
        "pivot_table_4 = pd.pivot_table(filter_offline,\n",
        "                             values=['RASTREO'],\n",
        "                             index=['TIENDA'],\n",
        "                             columns=['Rango_Fecha_Tienda'],\n",
        "                             aggfunc={'RASTREO': 'count'},\n",
        "                              margins=False,\n",
        "                             margins_name='Total'\n",
        "                             ).rename(columns={'RASTREO': 'Cantidad'}\n",
        "                                      ).rename_axis(columns={'TIENDA': 'TIENDA'})\n",
        "# Format the 'Monto' column with a currency symbol using applymap\n",
        "#pivot_table['Monto'] = pivot_table['Monto'].applymap('S/.{:,.2f}'.format)\n",
        "\n",
        "\n",
        "# Calculate the 'Total' column by summing across all columns\n",
        "pivot_table_4['Total'] = pivot_table_4.sum(axis=1)\n",
        "\n",
        "# Sort the pivot table by the 'Total' column in descending order\n",
        "pivot_table_4_sorted = pivot_table_4.sort_values(by='Total', ascending=False)\n",
        "\n",
        "# Rellenar los valores NaN con ''\n",
        "pivot_table_4_sorted.fillna('', inplace=True)\n",
        "# Create HTML representation of the styled pivot table\n",
        "html_table_4 = pivot_table_4_sorted.to_html(classes='styled-table', escape=False)\n",
        "\n",
        "\n",
        "# Print the head of the pivot table\n",
        "print(pivot_table_4_sorted.head())"
      ],
      "metadata": {
        "colab": {
          "base_uri": "https://localhost:8080/"
        },
        "id": "6LDU6yvUt1ZQ",
        "outputId": "aa2ef907-ecad-43b0-d0fe-01a460b676cc"
      },
      "execution_count": null,
      "outputs": [
        {
          "output_type": "stream",
          "name": "stdout",
          "text": [
            "                         Cantidad                           Total\n",
            "Rango_Fecha_Tienda          1_Sem 2_Sem 3_Sem 4_Sem 4_Sem_+      \n",
            "TIENDA                                                           \n",
            "FALABELLA AREQUIPA CAYMA      8.0  10.0   5.0                23.0\n",
            "FALABELLA MALL DEL SUR       13.0   3.0                      16.0\n",
            "FALABELLA ANGAMOS            11.0   3.0                      14.0\n",
            "FALABELLA MIRAFLORES         11.0   2.0                      13.0\n",
            "FALABELLA CAJAMARCA           3.0   5.0   3.0                11.0\n"
          ]
        }
      ]
    },
    {
      "cell_type": "code",
      "source": [
        "# Create a pivot table\n",
        "\n",
        "pivot_table_6 = filter_offline.groupby(['Rango_Fecha_Tienda']).agg(\n",
        "    Monto=pd.NamedAgg(column=\"PRECIO\", aggfunc=\"sum\"))\n",
        "# Format the 'Monto' column with a currency symbol using applymap\n",
        "#pivot_table['Monto'] = pivot_table['Monto'].applymap('S/.{:,.2f}'.format)\n",
        "\n",
        "# Calculate the 'Total' column by summing across all columns\n",
        "#pivot_table_5['Total'] = pivot_table_5.sum(axis=1)\n",
        "\n",
        "# Sort the pivot table by the 'Total' column in descending order\n",
        "#pivot_table_5_sorted = pivot_table_5.sort_values(by='Total', ascending=False)\n",
        "\n",
        "# Rellenar los valores NaN con ''\n",
        "pivot_table_6.fillna('', inplace=True)\n",
        "# Create HTML representation of the styled pivot table\n",
        "html_table_6 = pivot_table_6.to_html(classes='styled-table', escape=False)\n",
        "\n",
        "# Print the head of the pivot table\n",
        "print(pivot_table_6.head())"
      ],
      "metadata": {
        "colab": {
          "base_uri": "https://localhost:8080/"
        },
        "id": "f2ehiRtouZ4y",
        "outputId": "72fe06c1-34ee-4ada-ae23-aa3ee86ecb61"
      },
      "execution_count": null,
      "outputs": [
        {
          "output_type": "stream",
          "name": "stdout",
          "text": [
            "                       Monto\n",
            "Rango_Fecha_Tienda          \n",
            "1_Sem               31892.47\n",
            "2_Sem                5421.82\n",
            "3_Sem                1328.32\n",
            "4_Sem                 498.80\n",
            "4_Sem_+              5297.30\n"
          ]
        }
      ]
    },
    {
      "cell_type": "code",
      "source": [
        "Filter_Backstore= Filter_Backstore[['Fecha_Entregado_Tienda_v2','Fecha_Confirmacion_Envio','T_Dia_EntreTienda_ConfiEnvio','Tienda',\n",
        "                                             'submotivo_traductor','Estado_RLO','Estado_3PL','Estado_Backstore','ESTADO_ACTUAL',\n",
        "                                        'Status_Buffer','OC','RLO','Etiqueta_Pre_Impresa','GUIA','Product_Name','Precio','ST','Rango_Fecha_Tienda','Dias_en_tiendas']]\n",
        "filter_offline=filter_offline[['RASTREO','DESCRIPCION','TIENDA','ORDEN','SKU','PRECIO','FECHA_SOLICITUD','GUIA','OPL','DIA_RECOLECCION',\n",
        "                                     'ESTADO_RECOLECCION','FECHA_RECOLECCION','ESTADO_ENTREGA','FECHA_ENTREGA','NEGOCIO','Status_Buffer','Rango_Fecha_Tienda','DIA_TIENDA']]"
      ],
      "metadata": {
        "id": "avTht9CoucDs"
      },
      "execution_count": null,
      "outputs": []
    },
    {
      "cell_type": "code",
      "source": [
        "import time\n",
        "import datetime\n",
        "##import pyautogui\n",
        "import smtplib\n",
        "from email.mime.application import MIMEApplication\n",
        "from email.mime.text import MIMEText\n",
        "from email.mime.multipart import MIMEMultipart\n",
        "from email.mime.base import MIMEBase\n",
        "from email import encoders\n",
        "import math  # Necesario para verificar NaN\n",
        "import os\n",
        "\n",
        "# Obtener la fecha actual y calcular la semana correspondiente\n",
        "today = datetime.date.today()\n",
        "week_number = today.strftime(\"%V\")\n",
        "\n",
        "# Definir el nombre del archivo Excel con el formato deseado\n",
        "nombre_archivo = f\"Devoluciones_Pendientes_W{week_number}.xlsx\"\n",
        "# Escribir los DataFrames en un archivo Excel\n",
        "with pd.ExcelWriter(nombre_archivo) as writer:\n",
        "    # Escribir 'filtered_rlos_tienda' en una hoja llamada 'filtered_rlos_tienda'\n",
        "    Filter_Backstore.to_excel(writer, sheet_name='Backstore', index=False)\n",
        "\n",
        "    # Escribir 'filter_offline' en una hoja llamada 'filter_offline'\n",
        "    filter_offline.to_excel(writer, sheet_name='Offline', index=False)\n",
        "# Obtener el libro de trabajo y las hojas\n",
        "    workbook = writer.book\n",
        "    backstore_sheet = writer.sheets['Backstore']\n",
        "    offline_sheet = writer.sheets['Offline']\n",
        "\n",
        "    # Formato para los títulos de fondo de color naranja\n",
        "    header_format = workbook.add_format({'bg_color': '#FFA500', 'bold': True})\n",
        "\n",
        "    # Aplicar formato a los títulos en Backstore\n",
        "    for col_num, value in enumerate(Filter_Backstore.columns.values):\n",
        "        backstore_sheet.write(0, col_num, value, header_format)\n",
        "\n",
        "    # Aplicar filtros en Backstore\n",
        "    backstore_sheet.autofilter(0, 0, len(Filter_Backstore.index), len(Filter_Backstore.columns) - 1)\n",
        "\n",
        "    # Establecer el ancho de la columna en 30 en Backstore\n",
        "    backstore_sheet.set_column(0, len(Filter_Backstore.columns) - 1, 30)\n",
        "\n",
        "    # Aplicar formato a los títulos en Offline\n",
        "    for col_num, value in enumerate(filter_offline.columns.values):\n",
        "        offline_sheet.write(0, col_num, value, header_format)\n",
        "\n",
        "    # Aplicar filtros en Offline\n",
        "    offline_sheet.autofilter(0, 0, len(filter_offline.index), len(filter_offline.columns) - 1)\n",
        "\n",
        "    # Establecer el ancho de la columna en 30 en Offline\n",
        "    offline_sheet.set_column(0, len(filter_offline.columns) - 1, 30)\n",
        "# Calcular el total de devoluciones en los DataFrames\n",
        "total_devoluciones_Backstore = Filter_Backstore.shape[0]\n",
        "total_devoluciones_Offline = filter_offline.shape[0]\n",
        "\n",
        "# Calcular la suma de precios en los DataFrames\n",
        "suma_precios_Backstore = Filter_Backstore['Precio'].sum()\n",
        "suma_precios_Offline = filter_offline['PRECIO'].sum()\n",
        "\n",
        "# Configuración\n",
        "email_usuario = 'mpazos@falabella.com'\n",
        "contrasena = 'Mapp1234%'\n",
        "asunto_base = f\"DETALLE DE DEVOLUCIONES PENDIENTES {today.year} - WEEK {week_number} - {today}\"\n",
        "\n",
        "# Establecer la conexión con el servidor SMTP de Outlook\n",
        "server = smtplib.SMTP('smtp.office365.com', 587)\n",
        "server.starttls()\n",
        "\n",
        "# Iniciar sesión en el servidor SMTP\n",
        "server.login(email_usuario, contrasena)\n",
        "\n",
        "# Configurar el mensaje\n",
        "msg = MIMEMultipart()\n",
        "msg['From'] = email_usuario\n",
        "msg['To'] = 'ypalominop@falabella.com,mlaurente@falabella.com'\n",
        "msg['Subject'] = asunto_base\n",
        "msg['CC'] = 'lshuan@falabella.com,mfmartinez@falabella.com'\n",
        "\n",
        "# Darle un nivel de importancia al correo electrónico (en este caso, Alto)\n",
        "msg.add_header('Importance', 'High')\n",
        "\n",
        "# Crear el cuerpo del correo en formato HTML\n",
        "mensaje_html = f\"\"\"\n",
        "<html>\n",
        "  <head>\n",
        "    <style>\n",
        "      .styled-table th {{\n",
        "        background-color: orange;\n",
        "        font-weight: bold;\n",
        "      }}\n",
        "    </style>\n",
        "  </head>\n",
        "  <body>\n",
        "    <p>Estimado Mauricio!</p>\n",
        "    <p>Informo que tenemos {total_devoluciones_Backstore} devoluciones pendientes en backstore con un valorizado S/.{suma_precios_Backstore} y\n",
        "     {total_devoluciones_Offline} devoluciones pendientes en offline con una valorizado S/.{suma_precios_Offline} .</p>\n",
        "    <p>Comparto el detalle de las devoluciones pendiente de Tottus hasta el día de hoy.</p>\n",
        "    <p>Por favor, su apoyo trasladando los pendientes a Plataforma para su pronto despacho.</p>\n",
        "    <p>Además, adjunto un archivo en la cual detalla las devoluciones que se encuentran fuera de buffer y no han tenido salida por los dos flujos.</p>\n",
        "\n",
        "    <p><span style=\"font-size: 16px\"><u><strong> Estado de Buffer de Backstore</strong></u></span><br></p>\n",
        "    {html_table_1}\n",
        "    <p><span style=\"font-size: 16px\"><u><strong>Detalle por Tienda con mas Devoluciones Pendientes Backstore.</strong></u></span><br></p>\n",
        "    {html_table_2}\n",
        "    <p><span style=\"font-size: 16px\"><u><strong>Monto Total de Devoluciones Pendientes Backstore.</strong></u></span><br></p>\n",
        "    {html_table_5}\n",
        "    <p><span style=\"font-size: 16px\"><u><strong>Estado de Buffer de Offline.</strong></u></span><br></p></p>\n",
        "    {html_table_3}\n",
        "    <p><span style=\"font-size: 16px\"><u><strong>Detalle por Tienda con mas Devoluciones Pendientes Offline.</strong></u></span><br></p></p>\n",
        "    {html_table_4}\n",
        "    <p><span style=\"font-size: 16px\"><u><strong>Monto Total de Devoluciones Pendientes Offline.</strong></u></span><br></p>\n",
        "    {html_table_6}\n",
        "\n",
        "  </body>\n",
        "</html>\n",
        "\"\"\"\n",
        "\n",
        "# Adjuntar el cuerpo del correo en formato HTML\n",
        "msg.attach(MIMEText(mensaje_html, 'html'))\n",
        "\n",
        "# Adjuntar el archivo Excel al correo electrónico\n",
        "filename = nombre_archivo\n",
        "attachment = open(nombre_archivo, \"rb\")\n",
        "\n",
        "part = MIMEBase('application', 'octet-stream')\n",
        "part.set_payload(attachment.read())\n",
        "encoders.encode_base64(part)\n",
        "part.add_header('Content-Disposition', \"attachment; filename= %s\" % filename)\n",
        "\n",
        "msg.attach(part)\n",
        "\n",
        "# Enviar el correo electrónico\n",
        "server.sendmail(email_usuario,msg['To'], msg.as_string())\n",
        "\n",
        "# Cerrar la conexión con el servidor SMTP\n",
        "server.quit()"
      ],
      "metadata": {
        "colab": {
          "base_uri": "https://localhost:8080/"
        },
        "id": "jxN2BDwcufh3",
        "outputId": "0cf91e50-c3d2-4fe5-d38a-efe0805b355a"
      },
      "execution_count": null,
      "outputs": [
        {
          "output_type": "execute_result",
          "data": {
            "text/plain": [
              "(221, b'2.0.0 Service closing transmission channel')"
            ]
          },
          "metadata": {},
          "execution_count": 12
        }
      ]
    }
  ]
}